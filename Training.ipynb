{
 "cells": [
  {
   "cell_type": "code",
   "execution_count": 1,
   "metadata": {
    "collapsed": false,
    "deletable": true,
    "editable": true
   },
   "outputs": [],
   "source": [
    "import numpy as np\n",
    "import pandas as pd\n",
    "\n",
    "df = pd.DataFrame.from_csv(\"data.csv\",header=None) #importing the data as a dataframe with no header\n",
    "\n",
    "X = df.drop([137,138,139], axis=1).values #getting the values of X by dropping mean and variance\n",
    "y = df[139].values #getting the values of y"
   ]
  },
  {
   "cell_type": "code",
   "execution_count": 3,
   "metadata": {
    "collapsed": false,
    "deletable": true,
    "editable": true
   },
   "outputs": [],
   "source": [
    "from sklearn.model_selection import train_test_split\n",
    "\n",
    "X_train, X_test, y_train, y_test = train_test_split(X, y, test_size=0.3, random_state=42)\n"
   ]
  },
  {
   "cell_type": "code",
   "execution_count": 4,
   "metadata": {
    "collapsed": false,
    "deletable": true,
    "editable": true
   },
   "outputs": [],
   "source": [
    "#Creating classifiers\n",
    "\n",
    "from sklearn import svm\n",
    "from sklearn.naive_bayes import GaussianNB\n",
    "from sklearn.ensemble import RandomForestClassifier\n",
    "from sklearn.linear_model import LogisticRegression\n",
    "\n",
    "clf_svm = svm.SVC(kernel='linear', C=1,random_state=42).fit(X_train, y_train)\n",
    "#clf_NB = GaussianNB().fit(X_train, y_train)\n",
    "clf_RF = RandomForestClassifier(random_state = 42).fit(X_train, y_train)\n",
    "clf_LR = LogisticRegression(C = 1, random_state = 42).fit(X_train, y_train.ravel())\n"
   ]
  },
  {
   "cell_type": "code",
   "execution_count": 5,
   "metadata": {
    "collapsed": false,
    "deletable": true,
    "editable": true
   },
   "outputs": [
    {
     "data": {
      "text/plain": [
       "0.7485433121843843"
      ]
     },
     "execution_count": 5,
     "metadata": {},
     "output_type": "execute_result"
    }
   ],
   "source": [
    "clf_svm.score(X_test, y_test)"
   ]
  },
  {
   "cell_type": "code",
   "execution_count": 6,
   "metadata": {
    "collapsed": false,
    "deletable": true,
    "editable": true
   },
   "outputs": [
    {
     "data": {
      "text/plain": [
       "0.30480383270749711"
      ]
     },
     "execution_count": 6,
     "metadata": {},
     "output_type": "execute_result"
    }
   ],
   "source": [
    "clf_NB.score(X_test, y_test)"
   ]
  },
  {
   "cell_type": "code",
   "execution_count": 7,
   "metadata": {
    "collapsed": false,
    "deletable": true,
    "editable": true
   },
   "outputs": [
    {
     "data": {
      "text/plain": [
       "0.81859381069532566"
      ]
     },
     "execution_count": 7,
     "metadata": {},
     "output_type": "execute_result"
    }
   ],
   "source": [
    "clf_RF.score(X_test, y_test)"
   ]
  },
  {
   "cell_type": "code",
   "execution_count": 8,
   "metadata": {
    "collapsed": false,
    "deletable": true,
    "editable": true
   },
   "outputs": [
    {
     "data": {
      "text/plain": [
       "0.64223747248478569"
      ]
     },
     "execution_count": 8,
     "metadata": {},
     "output_type": "execute_result"
    }
   ],
   "source": [
    "clf_LR.score(X_test, y_test)"
   ]
  },
  {
   "cell_type": "code",
   "execution_count": 9,
   "metadata": {
    "collapsed": false,
    "deletable": true,
    "editable": true
   },
   "outputs": [
    {
     "name": "stdout",
     "output_type": "stream",
     "text": [
      "Exatidão (SVM): 0.7485\n",
      "Exatidão (NB): 0.3048\n",
      "Exatidão (RF): 0.8186\n",
      "Exatidão (LR): 0.6422\n"
     ]
    }
   ],
   "source": [
    "from sklearn import metrics\n",
    "\n",
    "predict_svm = clf_svm.predict(X_test)\n",
    "#predict_NB = clf_NB.predict(X_test)\n",
    "predict_RF = clf_RF.predict(X_test)\n",
    "predict_LR = clf_LR.predict(X_test)\n",
    "print(\"Exatidão (SVM): {0:.4f}\".format(metrics.accuracy_score(y_test, predict_svm)))\n",
    "#print(\"Exatidão (NB): {0:.4f}\".format(metrics.accuracy_score(y_test, predict_NB)))\n",
    "print(\"Exatidão (RF): {0:.4f}\".format(metrics.accuracy_score(y_test, predict_RF)))\n",
    "print(\"Exatidão (LR): {0:.4f}\".format(metrics.accuracy_score(y_test, predict_LR)))"
   ]
  },
  {
   "cell_type": "code",
   "execution_count": 11,
   "metadata": {
    "collapsed": false,
    "deletable": true,
    "editable": true
   },
   "outputs": [
    {
     "name": "stdout",
     "output_type": "stream",
     "text": [
      "[ 0.49496514  0.5872093   0.62155874  0.56810244  0.65864078  0.63000389\n",
      "  0.65435459  0.57876313  0.7402648   0.65744349]\n",
      "[ 0.30170411  0.34651163  0.31019775  0.32207994  0.32815534  0.26544889\n",
      "  0.29199067  0.27537923  0.26168224  0.25604053]\n",
      "[ 0.4651433   0.47286822  0.48080651  0.4749709   0.53281553  0.52079285\n",
      "  0.56104199  0.51886426  0.6152648   0.5370226 ]\n",
      "[ 0.45507359  0.50697674  0.55098876  0.48195576  0.53592233  0.54644384\n",
      "  0.5940902   0.50136134  0.59501558  0.52494154]\n"
     ]
    }
   ],
   "source": [
    "from sklearn.model_selection import cross_val_score\n",
    "\n",
    "scores_svm = cross_val_score(clf_svm, X, y, cv=10)\n",
    "#scores_NB = cross_val_score(clf_NB, X, y, cv=10)\n",
    "scores_RF = cross_val_score(clf_RF, X, y, cv=10)\n",
    "scores_LR = cross_val_score(clf_LR, X, y, cv=10)\n",
    "\n",
    "print(scores_svm)\n",
    "#print(scores_NB)\n",
    "print(scores_RF)\n",
    "print(scores_LR)\n",
    "#print(\"Cross-validation (SVM): %0.4f\" % (scores_svm))\n",
    "#print(\"Cross-validation (NB): %0.4f\" % (scores_NB))\n",
    "#print(\"Cross-validation (RF): %0.4f\" % (scores_RF))\n",
    "#print(\"Cross-validation (LR): %0.4f\" % (scores_LR))"
   ]
  },
  {
   "cell_type": "code",
   "execution_count": 12,
   "metadata": {
    "collapsed": false,
    "deletable": true,
    "editable": true
   },
   "outputs": [
    {
     "name": "stdout",
     "output_type": "stream",
     "text": [
      "Accuracy (SVM): 0.62 (+/- 0.13)\n",
      "Accuracy (RF): 0.52 (+/- 0.09)\n",
      "Accuracy (LR): 0.53 (+/- 0.09)\n"
     ]
    }
   ],
   "source": [
    "print(\"Accuracy (SVM): %0.2f (+/- %0.2f)\" % (scores_svm.mean(), scores_svm.std() * 2))\n",
    "#print(\"Accuracy (NB): %0.2f (+/- %0.2f)\" % (scores_NB.mean(), scores_NB.std() * 2))\n",
    "print(\"Accuracy (RF): %0.2f (+/- %0.2f)\" % (scores_RF.mean(), scores_RF.std() * 2))\n",
    "print(\"Accuracy (LR): %0.2f (+/- %0.2f)\" % (scores_LR.mean(), scores_LR.std() * 2))"
   ]
  },
  {
   "cell_type": "code",
   "execution_count": 149,
   "metadata": {
    "collapsed": false,
    "deletable": true,
    "editable": true
   },
   "outputs": [],
   "source": [
    "from sklearn.neighbors import KNeighborsClassifier\n",
    "\n",
    "clf_knn = KNeighborsClassifier(n_neighbors=5).fit(X_train, y_train)\n",
    "\n"
   ]
  },
  {
   "cell_type": "code",
   "execution_count": 150,
   "metadata": {
    "collapsed": false,
    "deletable": true,
    "editable": true
   },
   "outputs": [
    {
     "data": {
      "text/plain": [
       "0.82791661271526606"
      ]
     },
     "execution_count": 150,
     "metadata": {},
     "output_type": "execute_result"
    }
   ],
   "source": [
    "clf_knn.score(X_test, y_test)"
   ]
  },
  {
   "cell_type": "code",
   "execution_count": 151,
   "metadata": {
    "collapsed": false,
    "deletable": true,
    "editable": true
   },
   "outputs": [
    {
     "name": "stdout",
     "output_type": "stream",
     "text": [
      "[ 0.44074361  0.41782946  0.44319504  0.45712068  0.50213592  0.47687524\n",
      "  0.51010886  0.48463633  0.58722741  0.49532346]\n",
      "Accuracy (KNN): 0.48 (+/- 0.09)\n"
     ]
    }
   ],
   "source": [
    "scores_knn = cross_val_score(clf_knn, X, y, cv=10)\n",
    "print(scores_knn)\n",
    "print(\"Accuracy (KNN): %0.2f (+/- %0.2f)\" % (scores_knn.mean(), scores_knn.std() * 2))"
   ]
  },
  {
   "cell_type": "code",
   "execution_count": 122,
   "metadata": {
    "collapsed": false,
    "deletable": true,
    "editable": true
   },
   "outputs": [],
   "source": [
    "vector = [ 0.46912114 , 0.52881759 , 0.5687091  , 0.56495828 , 0.53699284 , 0.5480597,  0.57706093 , 0.59892409 , 0.59485338 , 0.50839329]"
   ]
  },
  {
   "cell_type": "code",
   "execution_count": 5,
   "metadata": {
    "collapsed": false,
    "deletable": true,
    "editable": true
   },
   "outputs": [
    {
     "name": "stdout",
     "output_type": "stream",
     "text": [
      "Best score for training data: 0.8895190738870329\n",
      "Best `C`: 100\n",
      "Best kernel: rbf\n",
      "Best `gamma`: 0.0001\n"
     ]
    }
   ],
   "source": [
    "# Split the `digits` data into two equal sets\n",
    "from sklearn.model_selection import train_test_split\n",
    "from sklearn import svm\n",
    "X_train, X_test, y_train, y_test = train_test_split(X, y, test_size=0.5, random_state=0)\n",
    "\n",
    "# Import GridSearchCV\n",
    "from sklearn.grid_search import GridSearchCV\n",
    "\n",
    "# Set the parameter candidates\n",
    "parameter_candidates = [\n",
    "  {'C': [1, 10, 100, 1000], 'kernel': ['linear']},\n",
    "  {'C': [1, 10, 100, 1000], 'gamma': [0.001, 0.0001], 'kernel': ['rbf']},\n",
    "]\n",
    "\n",
    "# Create a classifier with the parameter candidates\n",
    "clf = GridSearchCV(estimator=svm.SVC(), param_grid=parameter_candidates, n_jobs=-1)\n",
    "\n",
    "# Train the classifier on training data\n",
    "clf.fit(X_train, y_train)\n",
    "\n",
    "# Print out the results \n",
    "print('Best score for training data:', clf.best_score_)\n",
    "print('Best `C`:',clf.best_estimator_.C)\n",
    "print('Best kernel:',clf.best_estimator_.kernel)\n",
    "print('Best `gamma`:',clf.best_estimator_.gamma)\n"
   ]
  },
  {
   "cell_type": "code",
   "execution_count": 6,
   "metadata": {
    "collapsed": false,
    "deletable": true,
    "editable": true
   },
   "outputs": [
    {
     "data": {
      "text/plain": [
       "0.91967060285891855"
      ]
     },
     "execution_count": 6,
     "metadata": {},
     "output_type": "execute_result"
    }
   ],
   "source": [
    "svm.SVC(C=100, kernel='rbf', gamma=0.0001).fit(X_train, y_train).score(X_test, y_test)"
   ]
  },
  {
   "cell_type": "code",
   "execution_count": null,
   "metadata": {
    "collapsed": true
   },
   "outputs": [],
   "source": []
  }
 ],
 "metadata": {
  "kernelspec": {
   "display_name": "Python 3",
   "language": "python",
   "name": "python3"
  },
  "language_info": {
   "codemirror_mode": {
    "name": "ipython",
    "version": 3
   },
   "file_extension": ".py",
   "mimetype": "text/x-python",
   "name": "python",
   "nbconvert_exporter": "python",
   "pygments_lexer": "ipython3",
   "version": "3.5.2"
  }
 },
 "nbformat": 4,
 "nbformat_minor": 2
}
